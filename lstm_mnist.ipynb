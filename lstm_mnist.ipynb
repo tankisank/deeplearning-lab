{
  "nbformat": 4,
  "nbformat_minor": 0,
  "metadata": {
    "colab": {
      "provenance": []
    },
    "kernelspec": {
      "name": "python3",
      "display_name": "Python 3"
    },
    "language_info": {
      "name": "python"
    }
  },
  "cells": [
    {
      "cell_type": "code",
      "execution_count": null,
      "metadata": {
        "id": "faIQgHhGX9AZ"
      },
      "outputs": [],
      "source": [
        "import matplotlib.pyplot as plt\n",
        "import numpy as np\n",
        "import tensorflow as tf\n",
        "from tensorflow.keras.datasets import mnist\n",
        "\n",
        "# Load the MNIST dataset\n",
        "(train_images, train_labels), (test_images, test_labels) = mnist.load_data()\n"
      ]
    },
    {
      "cell_type": "code",
      "source": [
        "X_train = train_images.astype('float32') / 255.0\n",
        "X_test = test_images.astype('float32') / 255.0\n"
      ],
      "metadata": {
        "id": "jar7MC2IYVDq"
      },
      "execution_count": null,
      "outputs": []
    },
    {
      "cell_type": "code",
      "source": [
        "y_train = train_labels\n",
        "y_test = test_labels\n"
      ],
      "metadata": {
        "id": "qb7i7oe5YaCT"
      },
      "execution_count": null,
      "outputs": []
    },
    {
      "cell_type": "code",
      "source": [
        "import keras\n",
        "import matplotlib.pyplot as plt\n",
        "import numpy as np\n",
        "import tensorflow as tf\n",
        "from tensorflow.keras.datasets import mnist\n",
        "import tensorflow.keras as keras  # Import Keras from TensorFlow\n",
        "from tensorflow.keras.optimizers import Adam  # Import the Adam optimizer\n",
        "\n",
        "model = keras.Sequential()\n",
        "model.add(keras.layers.Reshape((28, 28), input_shape=(28, 28)))\n",
        "model.add(keras.layers.LSTM(128, return_sequences=True))\n",
        "model.add(keras.layers.Dropout(0.2))\n",
        "model.add(keras.layers.LSTM(128))\n",
        "model.add(keras.layers.Dropout(0.2))\n",
        "model.add(keras.layers.Dense(64, activation='relu'))\n",
        "model.add(keras.layers.Dropout(0.2))\n",
        "model.add(keras.layers.Dense(10, activation='softmax'))\n",
        "\n",
        "# Define a learning rate schedule\n",
        "lr_schedule = keras.optimizers.schedules.ExponentialDecay(\n",
        "    initial_learning_rate=0.001,\n",
        "    decay_steps=10000,\n",
        "    decay_rate=0.9\n",
        ")\n",
        "\n",
        "# Create an optimizer with the learning rate schedule\n",
        "optimizer = Adam(learning_rate=lr_schedule)\n",
        "\n",
        "# Compile the model\n",
        "model.compile(loss='sparse_categorical_crossentropy',\n",
        "              optimizer=optimizer,\n",
        "              metrics=['accuracy'])\n",
        "\n",
        "# Print model summary\n",
        "model.summary()\n",
        "\n",
        "# Train the model\n",
        "history = model.fit(X_train, y_train, epochs=3, validation_data=(X_test, y_test))"
      ],
      "metadata": {
        "colab": {
          "base_uri": "https://localhost:8080/"
        },
        "id": "sC2gebOlaqv7",
        "outputId": "66e965d9-e100-45f7-fd43-6eb274057e9d"
      },
      "execution_count": null,
      "outputs": [
        {
          "output_type": "stream",
          "name": "stdout",
          "text": [
            "Model: \"sequential_4\"\n",
            "_________________________________________________________________\n",
            " Layer (type)                Output Shape              Param #   \n",
            "=================================================================\n",
            " reshape_3 (Reshape)         (None, 28, 28)            0         \n",
            "                                                                 \n",
            " lstm_8 (LSTM)               (None, 28, 128)           80384     \n",
            "                                                                 \n",
            " dropout_11 (Dropout)        (None, 28, 128)           0         \n",
            "                                                                 \n",
            " lstm_9 (LSTM)               (None, 128)               131584    \n",
            "                                                                 \n",
            " dropout_12 (Dropout)        (None, 128)               0         \n",
            "                                                                 \n",
            " dense_8 (Dense)             (None, 64)                8256      \n",
            "                                                                 \n",
            " dropout_13 (Dropout)        (None, 64)                0         \n",
            "                                                                 \n",
            " dense_9 (Dense)             (None, 10)                650       \n",
            "                                                                 \n",
            "=================================================================\n",
            "Total params: 220874 (862.79 KB)\n",
            "Trainable params: 220874 (862.79 KB)\n",
            "Non-trainable params: 0 (0.00 Byte)\n",
            "_________________________________________________________________\n",
            "Epoch 1/3\n",
            "1875/1875 [==============================] - 153s 80ms/step - loss: 0.3680 - accuracy: 0.8850 - val_loss: 0.1172 - val_accuracy: 0.9661\n",
            "Epoch 2/3\n",
            "1875/1875 [==============================] - 151s 80ms/step - loss: 0.1102 - accuracy: 0.9691 - val_loss: 0.0764 - val_accuracy: 0.9790\n",
            "Epoch 3/3\n",
            "1875/1875 [==============================] - 154s 82ms/step - loss: 0.0747 - accuracy: 0.9794 - val_loss: 0.0750 - val_accuracy: 0.9792\n"
          ]
        }
      ]
    },
    {
      "cell_type": "code",
      "source": [
        "import matplotlib.pyplot as plt\n",
        "\n",
        "def predict_number(input_image):\n",
        "    # Preprocess the input image (assuming it's a grayscale image)\n",
        "    input_image = input_image.astype('float32') / 255.0\n",
        "    input_image = np.reshape(input_image, (1, 28, 28))  # Reshape to match the model's input shape\n",
        "\n",
        "    prediction = model.predict(input_image)\n",
        "\n",
        "    predicted_number = np.argmax(prediction)\n",
        "\n",
        "    return predicted_number\n",
        "\n",
        "input_image = test_images[0]  # Replace with your own image\n",
        "predicted_number = predict_number(input_image)\n",
        "\n",
        "plt.imshow(input_image.reshape((28, 28)), cmap=plt.cm.binary)\n",
        "plt.title(f\"Predicted Number: {predicted_number}\")\n",
        "plt.show()\n",
        "\n",
        "\n",
        "print(\"Predicted Number:\", predicted_number)\n"
      ],
      "metadata": {
        "colab": {
          "base_uri": "https://localhost:8080/",
          "height": 487
        },
        "id": "xty3McC5atzP",
        "outputId": "62e6b9bb-0580-4d02-f145-44cd372a5d9e"
      },
      "execution_count": null,
      "outputs": [
        {
          "output_type": "stream",
          "name": "stdout",
          "text": [
            "1/1 [==============================] - 0s 23ms/step\n"
          ]
        },
        {
          "output_type": "display_data",
          "data": {
            "text/plain": [
              "<Figure size 640x480 with 1 Axes>"
            ],
            "image/png": "[encoded data removed]"
          },
          "metadata": {}
        },
        {
          "output_type": "stream",
          "name": "stdout",
          "text": [
            "Predicted Number: 7\n"
          ]
        }
      ]
    },
    {
      "cell_type": "code",
      "source": [
        "# Assuming 'model' is your trained Keras model\n",
        "\n",
        "# Save the trained model to the current working directory in Colab\n",
        "model.save('my_model.h5')\n"
      ],
      "metadata": {
        "colab": {
          "base_uri": "https://localhost:8080/"
        },
        "id": "j83wsZVbdCwT",
        "outputId": "e0fbd18f-ede6-4309-ffc4-154026e81af5"
      },
      "execution_count": null,
      "outputs": [
        {
          "output_type": "stream",
          "name": "stderr",
          "text": [
            "/usr/local/lib/python3.10/dist-packages/keras/src/engine/training.py:3000: UserWarning: You are saving your model as an HDF5 file via `model.save()`. This file format is considered legacy. We recommend using instead the native Keras format, e.g. `model.save('my_model.keras')`.\n",
            "  saving_api.save_model(\n"
          ]
        }
      ]
    },
    {
      "cell_type": "code",
      "source": [
        "import numpy as np\n",
        "import tensorflow as tf\n",
        "from tensorflow.keras.preprocessing import image\n",
        "from tensorflow.keras.models import load_model\n",
        "import matplotlib.pyplot as plt\n",
        "from PIL import Image\n",
        "\n",
        "# Load your trained model (replace 'my_model.h5' with your model's filename)\n",
        "model = load_model('my_model.h5')\n",
        "\n",
        "# Define a function to predict the number from an input image file\n",
        "def predict_number_from_image(image_path):\n",
        "    # Load and preprocess the input image\n",
        "    img = image.load_img(image_path, target_size=(28, 28), color_mode='grayscale')\n",
        "    img_array = image.img_to_array(img)\n",
        "    img_array /= 255.0\n",
        "    img_array = np.reshape(img_array, (1, 28, 28, 1))  # Reshape to match the model's input shape\n",
        "\n",
        "    # Make a prediction using the trained model\n",
        "    prediction = model.predict(img_array)\n",
        "\n",
        "    # Get the index of the class with the highest probability\n",
        "    predicted_number = np.argmax(prediction)\n",
        "\n",
        "    return predicted_number\n",
        "\n",
        "# Example usage:\n",
        "# Provide an input image (as a file path)\n",
        "# Replace 'your_image_path.png' with the path to your image file\n",
        "input_image_path = 'seven2.png'\n",
        "\n",
        "predicted_number = predict_number_from_image(input_image_path)\n",
        "\n",
        "# Load and display the input image\n",
        "img = Image.open(input_image_path)\n",
        "plt.imshow(img, cmap='gray')\n",
        "plt.title(f\"Predicted Number: {predicted_number}\")\n",
        "plt.show()\n",
        "\n",
        "# Print the predicted number\n",
        "print(\"Predicted Number:\", predicted_number)\n"
      ],
      "metadata": {
        "colab": {
          "base_uri": "https://localhost:8080/",
          "height": 397
        },
        "id": "IrPkGHhlfOQ3",
        "outputId": "42245100-6f00-4581-f2a2-3d49d74844c8"
      },
      "execution_count": null,
      "outputs": [
        {
          "output_type": "stream",
          "name": "stdout",
          "text": [
            "1/1 [==============================] - 1s 736ms/step\n"
          ]
        },
        {
          "output_type": "display_data",
          "data": {
            "text/plain": [
              "<Figure size 640x480 with 1 Axes>"
            ],
            "image/png": "[encoded data removed]"
          },
          "metadata": {}
        },
        {
          "output_type": "stream",
          "name": "stdout",
          "text": [
            "Predicted Number: 5\n"
          ]
        }
      ]
    },
    {
      "cell_type": "code",
      "source": [],
      "metadata": {
        "id": "a1FGT1PzfsOq"
      },
      "execution_count": null,
      "outputs": []
    }
  ]
}