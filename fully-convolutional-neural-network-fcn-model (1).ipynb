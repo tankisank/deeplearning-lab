{
 "cells": [
  {
   "cell_type": "code",
   "execution_count": 12,
   "metadata": {
    "execution": {
     "iopub.execute_input": "2022-12-10T07:23:27.784341Z",
     "iopub.status.busy": "2022-12-10T07:23:27.783847Z",
     "iopub.status.idle": "2022-12-10T07:23:27.790168Z",
     "shell.execute_reply": "2022-12-10T07:23:27.789227Z",
     "shell.execute_reply.started": "2022-12-10T07:23:27.784297Z"
    }
   },
   "outputs": [],
   "source": [
    "import tensorflow as tf\n",
    "import os\n",
    "import random\n",
    "import numpy as np\n",
    " \n",
    "from tqdm import tqdm \n",
    "\n",
    "from skimage.io import imread, imshow\n",
    "from skimage.transform import resize\n",
    "import matplotlib.pyplot as plt\n",
    "from sklearn.model_selection import train_test_split\n"
   ]
  },
  {
   "cell_type": "code",
   "execution_count": 13,
   "metadata": {
    "execution": {
     "iopub.execute_input": "2022-12-10T07:23:33.578172Z",
     "iopub.status.busy": "2022-12-10T07:23:33.577773Z",
     "iopub.status.idle": "2022-12-10T07:23:33.587588Z",
     "shell.execute_reply": "2022-12-10T07:23:33.586350Z",
     "shell.execute_reply.started": "2022-12-10T07:23:33.578135Z"
    }
   },
   "outputs": [],
   "source": [
    "\n",
    "seed = 42\n",
    "np.random.seed = seed\n",
    "\n",
    "IMG_WIDTH = 128\n",
    "IMG_HEIGHT = 128\n",
    "IMG_CHANNELS = 3\n",
    "\n",
    "TRAIN_PATH = \"D://DATA BOWL//data-science-bowl-2018//stage1_train//\"\n",
    "TEST_PATH = \"D://DATA BOWL//data-science-bowl-2018//stage1_test//\"\n",
    "\n",
    "train_ids = next(os.walk(TRAIN_PATH))[1]\n",
    "test_ids = next(os.walk(TEST_PATH))[1]\n",
    "\n",
    "X = np.zeros((len(train_ids), IMG_HEIGHT, IMG_WIDTH, IMG_CHANNELS), dtype=np.uint8)\n",
    "y = np.zeros((len(train_ids), IMG_HEIGHT, IMG_WIDTH, 1), dtype=bool)"
   ]
  },
  {
   "cell_type": "code",
   "execution_count": null,
   "metadata": {
    "execution": {
     "iopub.execute_input": "2022-12-10T07:23:33.589767Z",
     "iopub.status.busy": "2022-12-10T07:23:33.589327Z",
     "iopub.status.idle": "2022-12-10T07:27:36.648863Z",
     "shell.execute_reply": "2022-12-10T07:27:36.647699Z",
     "shell.execute_reply.started": "2022-12-10T07:23:33.589733Z"
    }
   },
   "outputs": [
    {
     "name": "stdout",
     "output_type": "stream",
     "text": [
      "Resizing training images and masks\n"
     ]
    },
    {
     "name": "stderr",
     "output_type": "stream",
     "text": [
      " 26%|████████████████████▍                                                           | 171/670 [02:41<08:16,  1.00it/s]"
     ]
    }
   ],
   "source": [
    "print('Resizing training images and masks')\n",
    "for n, id_ in tqdm(enumerate(train_ids), total=len(train_ids)):   \n",
    "    path = TRAIN_PATH + id_\n",
    "    img = imread(path + '/images/' + id_ + '.png')[:,:,:IMG_CHANNELS]  \n",
    "    img = resize(img, (IMG_HEIGHT, IMG_WIDTH), mode='constant', preserve_range=True)\n",
    "    X[n] = img  #Fill empty X_train with values from img\n",
    "    mask = np.zeros((IMG_HEIGHT, IMG_WIDTH, 1), dtype=bool)\n",
    "    for mask_file in next(os.walk(path + '/masks/'))[2]:\n",
    "        mask_ = imread(path + '/masks/' + mask_file)\n",
    "        mask_ = np.expand_dims(resize(mask_, (IMG_HEIGHT, IMG_WIDTH), mode='constant',  \n",
    "                                      preserve_range=True), axis=-1)\n",
    "        mask = np.maximum(mask, mask_)  \n",
    "            \n",
    "    y[n] = mask "
   ]
  },
  {
   "cell_type": "code",
   "execution_count": 11,
   "metadata": {
    "execution": {
     "iopub.execute_input": "2022-12-10T07:27:36.652688Z",
     "iopub.status.busy": "2022-12-10T07:27:36.652278Z",
     "iopub.status.idle": "2022-12-10T07:27:38.003444Z",
     "shell.execute_reply": "2022-12-10T07:27:38.002195Z",
     "shell.execute_reply.started": "2022-12-10T07:27:36.652647Z"
    }
   },
   "outputs": [
    {
     "name": "stdout",
     "output_type": "stream",
     "text": [
      "Resizing test images\n"
     ]
    },
    {
     "name": "stderr",
     "output_type": "stream",
     "text": [
      "  0%|                                                                                            | 0/2 [00:00<?, ?it/s]\n"
     ]
    },
    {
     "ename": "FileNotFoundError",
     "evalue": "No such file: 'D:\\Mybean\\mysridata\\mysri\\images\\images\\images.png'",
     "output_type": "error",
     "traceback": [
      "\u001b[1;31m---------------------------------------------------------------------------\u001b[0m",
      "\u001b[1;31mFileNotFoundError\u001b[0m                         Traceback (most recent call last)",
      "Input \u001b[1;32mIn [11]\u001b[0m, in \u001b[0;36m<cell line: 5>\u001b[1;34m()\u001b[0m\n\u001b[0;32m      5\u001b[0m \u001b[38;5;28;01mfor\u001b[39;00m n, id_ \u001b[38;5;129;01min\u001b[39;00m tqdm(\u001b[38;5;28menumerate\u001b[39m(test_ids), total\u001b[38;5;241m=\u001b[39m\u001b[38;5;28mlen\u001b[39m(test_ids)):\n\u001b[0;32m      6\u001b[0m     path \u001b[38;5;241m=\u001b[39m TEST_PATH \u001b[38;5;241m+\u001b[39m id_\n\u001b[1;32m----> 7\u001b[0m     img \u001b[38;5;241m=\u001b[39m \u001b[43mimread\u001b[49m\u001b[43m(\u001b[49m\u001b[43mpath\u001b[49m\u001b[43m \u001b[49m\u001b[38;5;241;43m+\u001b[39;49m\u001b[43m \u001b[49m\u001b[38;5;124;43m'\u001b[39;49m\u001b[38;5;124;43m/images/\u001b[39;49m\u001b[38;5;124;43m'\u001b[39;49m\u001b[43m \u001b[49m\u001b[38;5;241;43m+\u001b[39;49m\u001b[43m \u001b[49m\u001b[43mid_\u001b[49m\u001b[43m \u001b[49m\u001b[38;5;241;43m+\u001b[39;49m\u001b[43m \u001b[49m\u001b[38;5;124;43m'\u001b[39;49m\u001b[38;5;124;43m.png\u001b[39;49m\u001b[38;5;124;43m'\u001b[39;49m\u001b[43m)\u001b[49m[:,:,:IMG_CHANNELS]\n\u001b[0;32m      8\u001b[0m     sizes_test\u001b[38;5;241m.\u001b[39mappend([img\u001b[38;5;241m.\u001b[39mshape[\u001b[38;5;241m0\u001b[39m], img\u001b[38;5;241m.\u001b[39mshape[\u001b[38;5;241m1\u001b[39m]])\n\u001b[0;32m      9\u001b[0m     img \u001b[38;5;241m=\u001b[39m resize(img, (IMG_HEIGHT, IMG_WIDTH), mode\u001b[38;5;241m=\u001b[39m\u001b[38;5;124m'\u001b[39m\u001b[38;5;124mconstant\u001b[39m\u001b[38;5;124m'\u001b[39m, preserve_range\u001b[38;5;241m=\u001b[39m\u001b[38;5;28;01mTrue\u001b[39;00m)\n",
      "File \u001b[1;32mD:\\Users\\user\\anaconda3\\lib\\site-packages\\skimage\\io\\_io.py:53\u001b[0m, in \u001b[0;36mimread\u001b[1;34m(fname, as_gray, plugin, **plugin_args)\u001b[0m\n\u001b[0;32m     50\u001b[0m         plugin \u001b[38;5;241m=\u001b[39m \u001b[38;5;124m'\u001b[39m\u001b[38;5;124mtifffile\u001b[39m\u001b[38;5;124m'\u001b[39m\n\u001b[0;32m     52\u001b[0m \u001b[38;5;28;01mwith\u001b[39;00m file_or_url_context(fname) \u001b[38;5;28;01mas\u001b[39;00m fname:\n\u001b[1;32m---> 53\u001b[0m     img \u001b[38;5;241m=\u001b[39m call_plugin(\u001b[38;5;124m'\u001b[39m\u001b[38;5;124mimread\u001b[39m\u001b[38;5;124m'\u001b[39m, fname, plugin\u001b[38;5;241m=\u001b[39mplugin, \u001b[38;5;241m*\u001b[39m\u001b[38;5;241m*\u001b[39mplugin_args)\n\u001b[0;32m     55\u001b[0m \u001b[38;5;28;01mif\u001b[39;00m \u001b[38;5;129;01mnot\u001b[39;00m \u001b[38;5;28mhasattr\u001b[39m(img, \u001b[38;5;124m'\u001b[39m\u001b[38;5;124mndim\u001b[39m\u001b[38;5;124m'\u001b[39m):\n\u001b[0;32m     56\u001b[0m     \u001b[38;5;28;01mreturn\u001b[39;00m img\n",
      "File \u001b[1;32mD:\\Users\\user\\anaconda3\\lib\\site-packages\\skimage\\io\\manage_plugins.py:207\u001b[0m, in \u001b[0;36mcall_plugin\u001b[1;34m(kind, *args, **kwargs)\u001b[0m\n\u001b[0;32m    203\u001b[0m     \u001b[38;5;28;01mexcept\u001b[39;00m \u001b[38;5;167;01mIndexError\u001b[39;00m:\n\u001b[0;32m    204\u001b[0m         \u001b[38;5;28;01mraise\u001b[39;00m \u001b[38;5;167;01mRuntimeError\u001b[39;00m(\u001b[38;5;124m'\u001b[39m\u001b[38;5;124mCould not find the plugin \u001b[39m\u001b[38;5;124m\"\u001b[39m\u001b[38;5;132;01m%s\u001b[39;00m\u001b[38;5;124m\"\u001b[39m\u001b[38;5;124m for \u001b[39m\u001b[38;5;132;01m%s\u001b[39;00m\u001b[38;5;124m.\u001b[39m\u001b[38;5;124m'\u001b[39m \u001b[38;5;241m%\u001b[39m\n\u001b[0;32m    205\u001b[0m                            (plugin, kind))\n\u001b[1;32m--> 207\u001b[0m \u001b[38;5;28;01mreturn\u001b[39;00m func(\u001b[38;5;241m*\u001b[39margs, \u001b[38;5;241m*\u001b[39m\u001b[38;5;241m*\u001b[39mkwargs)\n",
      "File \u001b[1;32mD:\\Users\\user\\anaconda3\\lib\\site-packages\\skimage\\io\\_plugins\\imageio_plugin.py:10\u001b[0m, in \u001b[0;36mimread\u001b[1;34m(*args, **kwargs)\u001b[0m\n\u001b[0;32m      8\u001b[0m \u001b[38;5;129m@wraps\u001b[39m(imageio_imread)\n\u001b[0;32m      9\u001b[0m \u001b[38;5;28;01mdef\u001b[39;00m \u001b[38;5;21mimread\u001b[39m(\u001b[38;5;241m*\u001b[39margs, \u001b[38;5;241m*\u001b[39m\u001b[38;5;241m*\u001b[39mkwargs):\n\u001b[1;32m---> 10\u001b[0m     \u001b[38;5;28;01mreturn\u001b[39;00m np\u001b[38;5;241m.\u001b[39masarray(imageio_imread(\u001b[38;5;241m*\u001b[39margs, \u001b[38;5;241m*\u001b[39m\u001b[38;5;241m*\u001b[39mkwargs))\n",
      "File \u001b[1;32mD:\\Users\\user\\anaconda3\\lib\\site-packages\\imageio\\core\\functions.py:265\u001b[0m, in \u001b[0;36mimread\u001b[1;34m(uri, format, **kwargs)\u001b[0m\n\u001b[0;32m    260\u001b[0m     \u001b[38;5;28;01mraise\u001b[39;00m \u001b[38;5;167;01mTypeError\u001b[39;00m(\n\u001b[0;32m    261\u001b[0m         \u001b[38;5;124m'\u001b[39m\u001b[38;5;124mInvalid keyword argument \u001b[39m\u001b[38;5;124m\"\u001b[39m\u001b[38;5;124mmode\u001b[39m\u001b[38;5;124m\"\u001b[39m\u001b[38;5;124m, \u001b[39m\u001b[38;5;124m'\u001b[39m \u001b[38;5;124m'\u001b[39m\u001b[38;5;124mperhaps you mean \u001b[39m\u001b[38;5;124m\"\u001b[39m\u001b[38;5;124mpilmode\u001b[39m\u001b[38;5;124m\"\u001b[39m\u001b[38;5;124m?\u001b[39m\u001b[38;5;124m'\u001b[39m\n\u001b[0;32m    262\u001b[0m     )\n\u001b[0;32m    264\u001b[0m \u001b[38;5;66;03m# Get reader and read first\u001b[39;00m\n\u001b[1;32m--> 265\u001b[0m reader \u001b[38;5;241m=\u001b[39m read(uri, \u001b[38;5;28mformat\u001b[39m, \u001b[38;5;124m\"\u001b[39m\u001b[38;5;124mi\u001b[39m\u001b[38;5;124m\"\u001b[39m, \u001b[38;5;241m*\u001b[39m\u001b[38;5;241m*\u001b[39mkwargs)\n\u001b[0;32m    266\u001b[0m \u001b[38;5;28;01mwith\u001b[39;00m reader:\n\u001b[0;32m    267\u001b[0m     \u001b[38;5;28;01mreturn\u001b[39;00m reader\u001b[38;5;241m.\u001b[39mget_data(\u001b[38;5;241m0\u001b[39m)\n",
      "File \u001b[1;32mD:\\Users\\user\\anaconda3\\lib\\site-packages\\imageio\\core\\functions.py:172\u001b[0m, in \u001b[0;36mget_reader\u001b[1;34m(uri, format, mode, **kwargs)\u001b[0m\n\u001b[0;32m    149\u001b[0m \u001b[38;5;124;03m\"\"\" get_reader(uri, format=None, mode='?', **kwargs)\u001b[39;00m\n\u001b[0;32m    150\u001b[0m \n\u001b[0;32m    151\u001b[0m \u001b[38;5;124;03mReturns a :class:`.Reader` object which can be used to read data\u001b[39;00m\n\u001b[1;32m   (...)\u001b[0m\n\u001b[0;32m    168\u001b[0m \u001b[38;5;124;03m    to see what arguments are available for a particular format.\u001b[39;00m\n\u001b[0;32m    169\u001b[0m \u001b[38;5;124;03m\"\"\"\u001b[39;00m\n\u001b[0;32m    171\u001b[0m \u001b[38;5;66;03m# Create request object\u001b[39;00m\n\u001b[1;32m--> 172\u001b[0m request \u001b[38;5;241m=\u001b[39m Request(uri, \u001b[38;5;124m\"\u001b[39m\u001b[38;5;124mr\u001b[39m\u001b[38;5;124m\"\u001b[39m \u001b[38;5;241m+\u001b[39m mode, \u001b[38;5;241m*\u001b[39m\u001b[38;5;241m*\u001b[39mkwargs)\n\u001b[0;32m    174\u001b[0m \u001b[38;5;66;03m# Get format\u001b[39;00m\n\u001b[0;32m    175\u001b[0m \u001b[38;5;28;01mif\u001b[39;00m \u001b[38;5;28mformat\u001b[39m \u001b[38;5;129;01mis\u001b[39;00m \u001b[38;5;129;01mnot\u001b[39;00m \u001b[38;5;28;01mNone\u001b[39;00m:\n",
      "File \u001b[1;32mD:\\Users\\user\\anaconda3\\lib\\site-packages\\imageio\\core\\request.py:124\u001b[0m, in \u001b[0;36mRequest.__init__\u001b[1;34m(self, uri, mode, **kwargs)\u001b[0m\n\u001b[0;32m    121\u001b[0m     \u001b[38;5;28;01mraise\u001b[39;00m \u001b[38;5;167;01mValueError\u001b[39;00m(\u001b[38;5;124m'\u001b[39m\u001b[38;5;124mRequest requires mode[1] to be in \u001b[39m\u001b[38;5;124m\"\u001b[39m\u001b[38;5;124miIvV?\u001b[39m\u001b[38;5;124m\"\u001b[39m\u001b[38;5;124m'\u001b[39m)\n\u001b[0;32m    123\u001b[0m \u001b[38;5;66;03m# Parse what was given\u001b[39;00m\n\u001b[1;32m--> 124\u001b[0m \u001b[38;5;28;43mself\u001b[39;49m\u001b[38;5;241;43m.\u001b[39;49m\u001b[43m_parse_uri\u001b[49m\u001b[43m(\u001b[49m\u001b[43muri\u001b[49m\u001b[43m)\u001b[49m\n\u001b[0;32m    126\u001b[0m \u001b[38;5;66;03m# Set extension\u001b[39;00m\n\u001b[0;32m    127\u001b[0m \u001b[38;5;28;01mif\u001b[39;00m \u001b[38;5;28mself\u001b[39m\u001b[38;5;241m.\u001b[39m_filename \u001b[38;5;129;01mis\u001b[39;00m \u001b[38;5;129;01mnot\u001b[39;00m \u001b[38;5;28;01mNone\u001b[39;00m:\n",
      "File \u001b[1;32mD:\\Users\\user\\anaconda3\\lib\\site-packages\\imageio\\core\\request.py:260\u001b[0m, in \u001b[0;36mRequest._parse_uri\u001b[1;34m(self, uri)\u001b[0m\n\u001b[0;32m    257\u001b[0m \u001b[38;5;28;01mif\u001b[39;00m is_read_request:\n\u001b[0;32m    258\u001b[0m     \u001b[38;5;66;03m# Reading: check that the file exists (but is allowed a dir)\u001b[39;00m\n\u001b[0;32m    259\u001b[0m     \u001b[38;5;28;01mif\u001b[39;00m \u001b[38;5;129;01mnot\u001b[39;00m os\u001b[38;5;241m.\u001b[39mpath\u001b[38;5;241m.\u001b[39mexists(fn):\n\u001b[1;32m--> 260\u001b[0m         \u001b[38;5;28;01mraise\u001b[39;00m \u001b[38;5;167;01mFileNotFoundError\u001b[39;00m(\u001b[38;5;124m\"\u001b[39m\u001b[38;5;124mNo such file: \u001b[39m\u001b[38;5;124m'\u001b[39m\u001b[38;5;132;01m%s\u001b[39;00m\u001b[38;5;124m'\u001b[39m\u001b[38;5;124m\"\u001b[39m \u001b[38;5;241m%\u001b[39m fn)\n\u001b[0;32m    261\u001b[0m \u001b[38;5;28;01melse\u001b[39;00m:\n\u001b[0;32m    262\u001b[0m     \u001b[38;5;66;03m# Writing: check that the directory to write to does exist\u001b[39;00m\n\u001b[0;32m    263\u001b[0m     dn \u001b[38;5;241m=\u001b[39m os\u001b[38;5;241m.\u001b[39mpath\u001b[38;5;241m.\u001b[39mdirname(fn)\n",
      "\u001b[1;31mFileNotFoundError\u001b[0m: No such file: 'D:\\Mybean\\mysridata\\mysri\\images\\images\\images.png'"
     ]
    }
   ],
   "source": [
    "# test images\n",
    "test_images = np.zeros((len(test_ids), IMG_HEIGHT, IMG_WIDTH, IMG_CHANNELS), dtype=np.uint8)\n",
    "sizes_test = []\n",
    "print('Resizing test images') \n",
    "for n, id_ in tqdm(enumerate(test_ids), total=len(test_ids)):\n",
    "    path = TEST_PATH + id_\n",
    "    img = imread(path + '/images/' + id_ + '.png')[:,:,:IMG_CHANNELS]\n",
    "    sizes_test.append([img.shape[0], img.shape[1]])\n",
    "    img = resize(img, (IMG_HEIGHT, IMG_WIDTH), mode='constant', preserve_range=True)\n",
    "    test_images[n] = img\n",
    "\n",
    "print('Done!')"
   ]
  },
  {
   "cell_type": "code",
   "execution_count": 5,
   "metadata": {
    "execution": {
     "iopub.execute_input": "2022-12-10T07:27:38.005906Z",
     "iopub.status.busy": "2022-12-10T07:27:38.005457Z",
     "iopub.status.idle": "2022-12-10T07:27:38.027748Z",
     "shell.execute_reply": "2022-12-10T07:27:38.026868Z",
     "shell.execute_reply.started": "2022-12-10T07:27:38.005850Z"
    }
   },
   "outputs": [],
   "source": [
    "X_train, X_test, y_train, y_test = train_test_split(X, y, test_size=0.33, random_state=42)"
   ]
  },
  {
   "cell_type": "code",
   "execution_count": 6,
   "metadata": {
    "execution": {
     "iopub.execute_input": "2022-12-10T07:27:38.029730Z",
     "iopub.status.busy": "2022-12-10T07:27:38.029352Z",
     "iopub.status.idle": "2022-12-10T07:27:38.037781Z",
     "shell.execute_reply": "2022-12-10T07:27:38.036742Z",
     "shell.execute_reply.started": "2022-12-10T07:27:38.029696Z"
    }
   },
   "outputs": [
    {
     "data": {
      "text/plain": [
       "222"
      ]
     },
     "execution_count": 6,
     "metadata": {},
     "output_type": "execute_result"
    }
   ],
   "source": [
    "len(X_test)"
   ]
  },
  {
   "cell_type": "code",
   "execution_count": 7,
   "metadata": {
    "execution": {
     "iopub.execute_input": "2022-12-10T07:27:38.039973Z",
     "iopub.status.busy": "2022-12-10T07:27:38.039355Z",
     "iopub.status.idle": "2022-12-10T07:27:38.270337Z",
     "shell.execute_reply": "2022-12-10T07:27:38.269191Z",
     "shell.execute_reply.started": "2022-12-10T07:27:38.039929Z"
    }
   },
   "outputs": [
    {
     "data": {
      "image/png": "[encoded data removed]",
      "text/plain": [
       "<Figure size 432x288 with 1 Axes>"
      ]
     },
     "metadata": {
      "needs_background": "light"
     },
     "output_type": "display_data"
    },
    {
     "data": {
      "image/png": "[encoded data removed]",
      "text/plain": [
       "<Figure size 432x288 with 1 Axes>"
      ]
     },
     "metadata": {
      "needs_background": "light"
     },
     "output_type": "display_data"
    }
   ],
   "source": [
    "image_x = random.randint(0, len(X_train))\n",
    "plt.axis(\"off\")\n",
    "imshow(X_train[image_x])\n",
    "plt.show()\n",
    "plt.axis(\"off\")\n",
    "imshow(np.squeeze(y_train[image_x]))\n",
    "plt.show()"
   ]
  },
  {
   "cell_type": "code",
   "execution_count": 8,
   "metadata": {
    "execution": {
     "iopub.execute_input": "2022-12-10T07:27:38.272367Z",
     "iopub.status.busy": "2022-12-10T07:27:38.271789Z",
     "iopub.status.idle": "2022-12-10T07:27:38.276593Z",
     "shell.execute_reply": "2022-12-10T07:27:38.275533Z",
     "shell.execute_reply.started": "2022-12-10T07:27:38.272331Z"
    }
   },
   "outputs": [],
   "source": [
    "num_classes = 1"
   ]
  },
  {
   "cell_type": "code",
   "execution_count": 9,
   "metadata": {
    "execution": {
     "iopub.execute_input": "2022-12-10T07:27:38.278754Z",
     "iopub.status.busy": "2022-12-10T07:27:38.278087Z",
     "iopub.status.idle": "2022-12-10T07:27:39.562032Z",
     "shell.execute_reply": "2022-12-10T07:27:39.561050Z",
     "shell.execute_reply.started": "2022-12-10T07:27:38.278676Z"
    }
   },
   "outputs": [],
   "source": [
    "inputs = tf.keras.layers.Input(shape=(None, None, 3))"
   ]
  },
  {
   "cell_type": "code",
   "execution_count": 32,
   "metadata": {},
   "outputs": [
    {
     "name": "stdout",
     "output_type": "stream",
     "text": [
      "(None, None, None, 3)\n"
     ]
    }
   ],
   "source": [
    "print(inputs.shape)"
   ]
  },
  {
   "cell_type": "code",
   "execution_count": 10,
   "metadata": {
    "execution": {
     "iopub.execute_input": "2022-12-10T07:27:39.563774Z",
     "iopub.status.busy": "2022-12-10T07:27:39.563411Z",
     "iopub.status.idle": "2022-12-10T07:27:39.579808Z",
     "shell.execute_reply": "2022-12-10T07:27:39.578696Z",
     "shell.execute_reply.started": "2022-12-10T07:27:39.563739Z"
    }
   },
   "outputs": [],
   "source": [
    "def encoder(inputs):\n",
    "    c1 = tf.keras.layers.Conv2D(16, (3, 3), activation='relu', kernel_initializer='he_normal', padding='same')(inputs)\n",
    "    c1 = tf.keras.layers.Dropout(0.1)(c1)\n",
    "    c1 = tf.keras.layers.Conv2D(16, (3, 3), activation='relu', kernel_initializer='he_normal', padding='same')(c1)\n",
    "    p1 = tf.keras.layers.MaxPooling2D((2, 2))(c1)\n",
    "\n",
    "    c2 = tf.keras.layers.Conv2D(32, (3, 3), activation='relu', kernel_initializer='he_normal', padding='same')(p1)\n",
    "    c2 = tf.keras.layers.Dropout(0.1)(c2)\n",
    "    c2 = tf.keras.layers.Conv2D(32, (3, 3), activation='relu', kernel_initializer='he_normal', padding='same')(c2)\n",
    "    p2 = tf.keras.layers.MaxPooling2D((2, 2))(c2)\n",
    "\n",
    "    c3 = tf.keras.layers.Conv2D(64, (3, 3), activation='relu', kernel_initializer='he_normal', padding='same')(p2)\n",
    "    c3 = tf.keras.layers.Dropout(0.2)(c3)\n",
    "    c3 = tf.keras.layers.Conv2D(64, (3, 3), activation='relu', kernel_initializer='he_normal', padding='same')(c3)\n",
    "    p3 = tf.keras.layers.MaxPooling2D((2, 2))(c3)\n",
    "\n",
    "    c4 = tf.keras.layers.Conv2D(128, (3, 3), activation='relu', kernel_initializer='he_normal', padding='same')(p3)\n",
    "    c4 = tf.keras.layers.Dropout(0.2)(c4)\n",
    "    c4 = tf.keras.layers.Conv2D(128, (3, 3), activation='relu', kernel_initializer='he_normal', padding='same')(c4)\n",
    "    p4 = tf.keras.layers.MaxPooling2D(pool_size=(2, 2))(c4)\n",
    "\n",
    "    c5 = tf.keras.layers.Conv2D(128, (3, 3), activation='relu', kernel_initializer='he_normal', padding='same')(p4)\n",
    "    c5 = tf.keras.layers.Dropout(0.2)(c5)\n",
    "    c5 = tf.keras.layers.Conv2D(128, (3, 3), activation='relu', kernel_initializer='he_normal', padding='same')(c5)\n",
    "    p5 = tf.keras.layers.MaxPooling2D(pool_size=(2, 2))(c5)\n",
    "\n",
    "    c6 = tf.keras.layers.Conv2D(256, (3, 3), activation='relu', kernel_initializer='he_normal', padding='same')(p5)\n",
    "    c6 = tf.keras.layers.Dropout(0.3)(c6)\n",
    "    c6 = tf.keras.layers.Conv2D(256, (3, 3), activation='relu', kernel_initializer='he_normal', padding='same')(c6)\n",
    "\n",
    "    u6 = tf.keras.layers.Conv2DTranspose(128, (2, 2), strides=(2, 2), padding='same')(c6)\n",
    "    c6 = tf.keras.layers.Conv2D(128, (3, 3), activation='relu', kernel_initializer='he_normal', padding='same')(u6)\n",
    "    c6 = tf.keras.layers.Dropout(0.2)(c6)\n",
    "    c6 = tf.keras.layers.Conv2D(128, (3, 3), activation='relu', kernel_initializer='he_normal', padding='same')(c6)\n",
    "    return c6"
   ]
  },
  {
   "cell_type": "code",
   "execution_count": 11,
   "metadata": {
    "execution": {
     "iopub.execute_input": "2022-12-10T07:27:39.582255Z",
     "iopub.status.busy": "2022-12-10T07:27:39.581569Z",
     "iopub.status.idle": "2022-12-10T07:27:39.613450Z",
     "shell.execute_reply": "2022-12-10T07:27:39.612310Z",
     "shell.execute_reply.started": "2022-12-10T07:27:39.582215Z"
    }
   },
   "outputs": [],
   "source": [
    "def decoder(c6):\n",
    "    u7 = tf.keras.layers.Conv2DTranspose(64, (2, 2), strides=(2, 2), padding='same')(c6)\n",
    "    c7 = tf.keras.layers.Conv2D(64, (3, 3), activation='relu', kernel_initializer='he_normal', padding='same')(u7)\n",
    "    c7 = tf.keras.layers.Add()([u7, c7])\n",
    "\n",
    "    u8 = tf.keras.layers.Conv2DTranspose(32, (2, 2), strides=(2, 2), padding='same')(c7)\n",
    "    c8 = tf.keras.layers.Conv2D(32, (3, 3), activation='relu', kernel_initializer='he_normal', padding='same')(u8)\n",
    "    c8 = tf.keras.layers.Add()([u8, c8])\n",
    "\n",
    "    u9 = tf.keras.layers.Conv2DTranspose(16, (2, 2), strides=(2, 2), padding='same')(c8)\n",
    "    c9 = tf.keras.layers.Conv2D(16, (3, 3), activation='relu', kernel_initializer='he_normal', padding='same')(u9)\n",
    "    c9 = tf.keras.layers.Add()([u9, c9])\n",
    "\n",
    "    u10 = tf.keras.layers.Conv2DTranspose(16, (2, 2), strides=(2, 2), padding='same')(c9)\n",
    "    c10 = tf.keras.layers.Conv2D(16, (3, 3), activation='relu', kernel_initializer='he_normal', padding='same')(u10)\n",
    "    c10 = tf.keras.layers.Add()([u10, c10])\n",
    "\n",
    "    outputs = tf.keras.layers.Conv2D(num_classes, (1, 1), activation='sigmoid')(c10)\n",
    "    return outputs\n"
   ]
  },
  {
   "cell_type": "code",
   "execution_count": 12,
   "metadata": {
    "execution": {
     "iopub.execute_input": "2022-12-10T07:27:39.616046Z",
     "iopub.status.busy": "2022-12-10T07:27:39.615227Z",
     "iopub.status.idle": "2022-12-10T07:27:45.714826Z",
     "shell.execute_reply": "2022-12-10T07:27:45.713890Z",
     "shell.execute_reply.started": "2022-12-10T07:27:39.616003Z"
    }
   },
   "outputs": [],
   "source": [
    "encoder = encoder(inputs)\n",
    "outputs = decoder(encoder)"
   ]
  },
  {
   "cell_type": "code",
   "execution_count": 13,
   "metadata": {
    "execution": {
     "iopub.execute_input": "2022-12-10T07:27:45.720306Z",
     "iopub.status.busy": "2022-12-10T07:27:45.719606Z",
     "iopub.status.idle": "2022-12-10T07:27:45.730238Z",
     "shell.execute_reply": "2022-12-10T07:27:45.729349Z",
     "shell.execute_reply.started": "2022-12-10T07:27:45.720269Z"
    }
   },
   "outputs": [],
   "source": [
    "model = tf.keras.Model(inputs=[inputs], outputs=[outputs])"
   ]
  },
  {
   "cell_type": "code",
   "execution_count": 14,
   "metadata": {
    "execution": {
     "iopub.execute_input": "2022-12-10T07:27:45.731889Z",
     "iopub.status.busy": "2022-12-10T07:27:45.731541Z",
     "iopub.status.idle": "2022-12-10T07:27:45.745093Z",
     "shell.execute_reply": "2022-12-10T07:27:45.743956Z",
     "shell.execute_reply.started": "2022-12-10T07:27:45.731859Z"
    }
   },
   "outputs": [
    {
     "name": "stdout",
     "output_type": "stream",
     "text": [
      "Model: \"model\"\n",
      "__________________________________________________________________________________________________\n",
      " Layer (type)                   Output Shape         Param #     Connected to                     \n",
      "==================================================================================================\n",
      " input_1 (InputLayer)           [(None, None, None,  0           []                               \n",
      "                                 3)]                                                              \n",
      "                                                                                                  \n",
      " conv2d (Conv2D)                (None, None, None,   448         ['input_1[0][0]']                \n",
      "                                16)                                                               \n",
      "                                                                                                  \n",
      " dropout (Dropout)              (None, None, None,   0           ['conv2d[0][0]']                 \n",
      "                                16)                                                               \n",
      "                                                                                                  \n",
      " conv2d_1 (Conv2D)              (None, None, None,   2320        ['dropout[0][0]']                \n",
      "                                16)                                                               \n",
      "                                                                                                  \n",
      " max_pooling2d (MaxPooling2D)   (None, None, None,   0           ['conv2d_1[0][0]']               \n",
      "                                16)                                                               \n",
      "                                                                                                  \n",
      " conv2d_2 (Conv2D)              (None, None, None,   4640        ['max_pooling2d[0][0]']          \n",
      "                                32)                                                               \n",
      "                                                                                                  \n",
      " dropout_1 (Dropout)            (None, None, None,   0           ['conv2d_2[0][0]']               \n",
      "                                32)                                                               \n",
      "                                                                                                  \n",
      " conv2d_3 (Conv2D)              (None, None, None,   9248        ['dropout_1[0][0]']              \n",
      "                                32)                                                               \n",
      "                                                                                                  \n",
      " max_pooling2d_1 (MaxPooling2D)  (None, None, None,   0          ['conv2d_3[0][0]']               \n",
      "                                32)                                                               \n",
      "                                                                                                  \n",
      " conv2d_4 (Conv2D)              (None, None, None,   18496       ['max_pooling2d_1[0][0]']        \n",
      "                                64)                                                               \n",
      "                                                                                                  \n",
      " dropout_2 (Dropout)            (None, None, None,   0           ['conv2d_4[0][0]']               \n",
      "                                64)                                                               \n",
      "                                                                                                  \n",
      " conv2d_5 (Conv2D)              (None, None, None,   36928       ['dropout_2[0][0]']              \n",
      "                                64)                                                               \n",
      "                                                                                                  \n",
      " max_pooling2d_2 (MaxPooling2D)  (None, None, None,   0          ['conv2d_5[0][0]']               \n",
      "                                64)                                                               \n",
      "                                                                                                  \n",
      " conv2d_6 (Conv2D)              (None, None, None,   73856       ['max_pooling2d_2[0][0]']        \n",
      "                                128)                                                              \n",
      "                                                                                                  \n",
      " dropout_3 (Dropout)            (None, None, None,   0           ['conv2d_6[0][0]']               \n",
      "                                128)                                                              \n",
      "                                                                                                  \n",
      " conv2d_7 (Conv2D)              (None, None, None,   147584      ['dropout_3[0][0]']              \n",
      "                                128)                                                              \n",
      "                                                                                                  \n",
      " max_pooling2d_3 (MaxPooling2D)  (None, None, None,   0          ['conv2d_7[0][0]']               \n",
      "                                128)                                                              \n",
      "                                                                                                  \n",
      " conv2d_8 (Conv2D)              (None, None, None,   147584      ['max_pooling2d_3[0][0]']        \n",
      "                                128)                                                              \n",
      "                                                                                                  \n",
      " dropout_4 (Dropout)            (None, None, None,   0           ['conv2d_8[0][0]']               \n",
      "                                128)                                                              \n",
      "                                                                                                  \n",
      " conv2d_9 (Conv2D)              (None, None, None,   147584      ['dropout_4[0][0]']              \n",
      "                                128)                                                              \n",
      "                                                                                                  \n",
      " max_pooling2d_4 (MaxPooling2D)  (None, None, None,   0          ['conv2d_9[0][0]']               \n",
      "                                128)                                                              \n",
      "                                                                                                  \n",
      " conv2d_10 (Conv2D)             (None, None, None,   295168      ['max_pooling2d_4[0][0]']        \n",
      "                                256)                                                              \n",
      "                                                                                                  \n",
      " dropout_5 (Dropout)            (None, None, None,   0           ['conv2d_10[0][0]']              \n",
      "                                256)                                                              \n",
      "                                                                                                  \n",
      " conv2d_11 (Conv2D)             (None, None, None,   590080      ['dropout_5[0][0]']              \n",
      "                                256)                                                              \n",
      "                                                                                                  \n",
      " conv2d_transpose (Conv2DTransp  (None, None, None,   131200     ['conv2d_11[0][0]']              \n",
      " ose)                           128)                                                              \n",
      "                                                                                                  \n",
      " conv2d_12 (Conv2D)             (None, None, None,   147584      ['conv2d_transpose[0][0]']       \n",
      "                                128)                                                              \n",
      "                                                                                                  \n",
      " dropout_6 (Dropout)            (None, None, None,   0           ['conv2d_12[0][0]']              \n",
      "                                128)                                                              \n",
      "                                                                                                  \n",
      " conv2d_13 (Conv2D)             (None, None, None,   147584      ['dropout_6[0][0]']              \n",
      "                                128)                                                              \n",
      "                                                                                                  \n",
      " conv2d_transpose_1 (Conv2DTran  (None, None, None,   32832      ['conv2d_13[0][0]']              \n",
      " spose)                         64)                                                               \n",
      "                                                                                                  \n",
      " conv2d_14 (Conv2D)             (None, None, None,   36928       ['conv2d_transpose_1[0][0]']     \n",
      "                                64)                                                               \n",
      "                                                                                                  \n",
      " add (Add)                      (None, None, None,   0           ['conv2d_transpose_1[0][0]',     \n",
      "                                64)                               'conv2d_14[0][0]']              \n",
      "                                                                                                  \n",
      " conv2d_transpose_2 (Conv2DTran  (None, None, None,   8224       ['add[0][0]']                    \n",
      " spose)                         32)                                                               \n",
      "                                                                                                  \n",
      " conv2d_15 (Conv2D)             (None, None, None,   9248        ['conv2d_transpose_2[0][0]']     \n",
      "                                32)                                                               \n",
      "                                                                                                  \n",
      " add_1 (Add)                    (None, None, None,   0           ['conv2d_transpose_2[0][0]',     \n",
      "                                32)                               'conv2d_15[0][0]']              \n",
      "                                                                                                  \n",
      " conv2d_transpose_3 (Conv2DTran  (None, None, None,   2064       ['add_1[0][0]']                  \n",
      " spose)                         16)                                                               \n",
      "                                                                                                  \n",
      " conv2d_16 (Conv2D)             (None, None, None,   2320        ['conv2d_transpose_3[0][0]']     \n",
      "                                16)                                                               \n",
      "                                                                                                  \n",
      " add_2 (Add)                    (None, None, None,   0           ['conv2d_transpose_3[0][0]',     \n",
      "                                16)                               'conv2d_16[0][0]']              \n",
      "                                                                                                  \n",
      " conv2d_transpose_4 (Conv2DTran  (None, None, None,   1040       ['add_2[0][0]']                  \n",
      " spose)                         16)                                                               \n",
      "                                                                                                  \n",
      " conv2d_17 (Conv2D)             (None, None, None,   2320        ['conv2d_transpose_4[0][0]']     \n",
      "                                16)                                                               \n",
      "                                                                                                  \n",
      " add_3 (Add)                    (None, None, None,   0           ['conv2d_transpose_4[0][0]',     \n",
      "                                16)                               'conv2d_17[0][0]']              \n",
      "                                                                                                  \n",
      " conv2d_18 (Conv2D)             (None, None, None,   17          ['add_3[0][0]']                  \n",
      "                                1)                                                                \n",
      "                                                                                                  \n",
      "==================================================================================================\n",
      "Total params: 1,995,297\n",
      "Trainable params: 1,995,297\n",
      "Non-trainable params: 0\n",
      "__________________________________________________________________________________________________\n"
     ]
    }
   ],
   "source": [
    "model.summary()"
   ]
  },
  {
   "cell_type": "code",
   "execution_count": 15,
   "metadata": {
    "execution": {
     "iopub.execute_input": "2022-12-10T07:27:45.747344Z",
     "iopub.status.busy": "2022-12-10T07:27:45.747004Z",
     "iopub.status.idle": "2022-12-10T07:27:47.871115Z",
     "shell.execute_reply": "2022-12-10T07:27:47.869158Z",
     "shell.execute_reply.started": "2022-12-10T07:27:45.747307Z"
    }
   },
   "outputs": [
    {
     "name": "stdout",
     "output_type": "stream",
     "text": [
      "You must install pydot (`pip install pydot`) and install graphviz (see instructions at https://graphviz.gitlab.io/download/) for plot_model/model_to_dot to work.\n"
     ]
    }
   ],
   "source": [
    "tf.keras.utils.plot_model(model, \"model.png\",show_shapes=True)\n"
   ]
  },
  {
   "cell_type": "code",
   "execution_count": 16,
   "metadata": {
    "execution": {
     "iopub.execute_input": "2022-12-10T07:27:47.873092Z",
     "iopub.status.busy": "2022-12-10T07:27:47.872596Z",
     "iopub.status.idle": "2022-12-10T07:27:47.896068Z",
     "shell.execute_reply": "2022-12-10T07:27:47.895083Z",
     "shell.execute_reply.started": "2022-12-10T07:27:47.873049Z"
    }
   },
   "outputs": [],
   "source": [
    "model.compile(optimizer='adam', loss='binary_crossentropy', metrics=['accuracy'])"
   ]
  },
  {
   "cell_type": "code",
   "execution_count": 17,
   "metadata": {
    "execution": {
     "iopub.execute_input": "2022-12-10T07:27:47.897925Z",
     "iopub.status.busy": "2022-12-10T07:27:47.897363Z",
     "iopub.status.idle": "2022-12-10T07:29:06.397493Z",
     "shell.execute_reply": "2022-12-10T07:29:06.396498Z",
     "shell.execute_reply.started": "2022-12-10T07:27:47.897888Z"
    }
   },
   "outputs": [
    {
     "name": "stdout",
     "output_type": "stream",
     "text": [
      "Epoch 1/50\n",
      "28/28 [==============================] - 22s 738ms/step - loss: 1.9358 - accuracy: 0.6990 - val_loss: 0.6014 - val_accuracy: 0.7709\n",
      "Epoch 2/50\n",
      "28/28 [==============================] - 20s 718ms/step - loss: 0.5891 - accuracy: 0.7424 - val_loss: 0.5510 - val_accuracy: 0.7709\n",
      "Epoch 3/50\n",
      "28/28 [==============================] - 20s 716ms/step - loss: 0.5730 - accuracy: 0.7425 - val_loss: 0.5380 - val_accuracy: 0.7709\n",
      "Epoch 4/50\n",
      "28/28 [==============================] - 21s 752ms/step - loss: 0.5454 - accuracy: 0.7424 - val_loss: 0.5315 - val_accuracy: 0.7709\n",
      "Epoch 5/50\n",
      "28/28 [==============================] - 21s 746ms/step - loss: 0.5338 - accuracy: 0.7424 - val_loss: 0.5106 - val_accuracy: 0.7709\n",
      "Epoch 6/50\n",
      "28/28 [==============================] - 21s 752ms/step - loss: 0.5235 - accuracy: 0.7424 - val_loss: 0.4924 - val_accuracy: 0.7709\n",
      "Epoch 7/50\n",
      "28/28 [==============================] - 21s 752ms/step - loss: 0.5180 - accuracy: 0.7425 - val_loss: 0.4916 - val_accuracy: 0.7709\n",
      "Epoch 8/50\n",
      "28/28 [==============================] - 21s 752ms/step - loss: 0.5099 - accuracy: 0.7425 - val_loss: 0.5095 - val_accuracy: 0.7709\n",
      "Epoch 9/50\n",
      "28/28 [==============================] - 21s 747ms/step - loss: 0.5030 - accuracy: 0.7425 - val_loss: 0.4873 - val_accuracy: 0.7709\n",
      "Epoch 10/50\n",
      "28/28 [==============================] - 21s 750ms/step - loss: 0.4971 - accuracy: 0.7425 - val_loss: 0.4752 - val_accuracy: 0.7709\n",
      "Epoch 11/50\n",
      "28/28 [==============================] - 21s 749ms/step - loss: 0.4941 - accuracy: 0.7425 - val_loss: 0.4688 - val_accuracy: 0.7709\n",
      "Epoch 12/50\n",
      "28/28 [==============================] - 22s 787ms/step - loss: 0.4889 - accuracy: 0.7425 - val_loss: 0.4651 - val_accuracy: 0.7709\n",
      "Epoch 13/50\n",
      "28/28 [==============================] - 661s 24s/step - loss: 0.4832 - accuracy: 0.7425 - val_loss: 0.4780 - val_accuracy: 0.7709\n",
      "Epoch 14/50\n",
      "28/28 [==============================] - 34s 1s/step - loss: 0.4869 - accuracy: 0.7425 - val_loss: 0.4775 - val_accuracy: 0.7709\n",
      "Epoch 15/50\n",
      "28/28 [==============================] - 32s 1s/step - loss: 0.4763 - accuracy: 0.7425 - val_loss: 0.4744 - val_accuracy: 0.7709\n",
      "Epoch 16/50\n",
      "28/28 [==============================] - 33s 1s/step - loss: 0.4762 - accuracy: 0.7425 - val_loss: 0.4596 - val_accuracy: 0.7709\n",
      "Epoch 17/50\n",
      "28/28 [==============================] - 34s 1s/step - loss: 0.4729 - accuracy: 0.7425 - val_loss: 0.4656 - val_accuracy: 0.7709\n",
      "Epoch 18/50\n",
      "28/28 [==============================] - 35s 1s/step - loss: 0.4644 - accuracy: 0.7429 - val_loss: 0.4521 - val_accuracy: 0.7749\n",
      "Epoch 19/50\n",
      "28/28 [==============================] - 34s 1s/step - loss: 0.4562 - accuracy: 0.7532 - val_loss: 0.4430 - val_accuracy: 0.7776\n",
      "Epoch 20/50\n",
      "28/28 [==============================] - 34s 1s/step - loss: 0.4576 - accuracy: 0.7607 - val_loss: 0.4480 - val_accuracy: 0.7346\n",
      "Epoch 21/50\n",
      "28/28 [==============================] - 33s 1s/step - loss: 0.4468 - accuracy: 0.7645 - val_loss: 0.4422 - val_accuracy: 0.7523\n",
      "Epoch 22/50\n",
      "28/28 [==============================] - 32s 1s/step - loss: 0.4498 - accuracy: 0.7687 - val_loss: 0.4352 - val_accuracy: 0.7425\n",
      "Epoch 23/50\n",
      "28/28 [==============================] - 34s 1s/step - loss: 0.4459 - accuracy: 0.7643 - val_loss: 0.4745 - val_accuracy: 0.7052\n",
      "Epoch 24/50\n",
      "28/28 [==============================] - 32s 1s/step - loss: 0.4373 - accuracy: 0.7736 - val_loss: 0.4412 - val_accuracy: 0.7337\n",
      "Epoch 25/50\n",
      "28/28 [==============================] - 32s 1s/step - loss: 0.4436 - accuracy: 0.7714 - val_loss: 0.4353 - val_accuracy: 0.7716\n",
      "Epoch 26/50\n",
      "28/28 [==============================] - 32s 1s/step - loss: 0.4510 - accuracy: 0.7648 - val_loss: 0.4272 - val_accuracy: 0.7897\n",
      "Epoch 27/50\n",
      "28/28 [==============================] - 32s 1s/step - loss: 0.4334 - accuracy: 0.7774 - val_loss: 0.4451 - val_accuracy: 0.7591\n",
      "Epoch 28/50\n",
      "28/28 [==============================] - 32s 1s/step - loss: 0.4272 - accuracy: 0.7770 - val_loss: 0.4395 - val_accuracy: 0.7547\n",
      "Epoch 29/50\n",
      "28/28 [==============================] - 294s 11s/step - loss: 0.4147 - accuracy: 0.7869 - val_loss: 0.3883 - val_accuracy: 0.7951\n",
      "Epoch 30/50\n",
      "28/28 [==============================] - 32s 1s/step - loss: 0.4021 - accuracy: 0.7938 - val_loss: 0.3869 - val_accuracy: 0.8032\n",
      "Epoch 31/50\n",
      "28/28 [==============================] - 32s 1s/step - loss: 0.4181 - accuracy: 0.7816 - val_loss: 0.3883 - val_accuracy: 0.7893\n",
      "Epoch 32/50\n",
      "28/28 [==============================] - 32s 1s/step - loss: 0.3979 - accuracy: 0.7977 - val_loss: 0.3696 - val_accuracy: 0.8141\n",
      "Epoch 33/50\n",
      "28/28 [==============================] - 33s 1s/step - loss: 0.3876 - accuracy: 0.8034 - val_loss: 0.3699 - val_accuracy: 0.8131\n",
      "Epoch 34/50\n",
      "28/28 [==============================] - 32s 1s/step - loss: 0.3849 - accuracy: 0.8056 - val_loss: 0.3731 - val_accuracy: 0.8132\n",
      "Epoch 35/50\n",
      "28/28 [==============================] - 33s 1s/step - loss: 0.3792 - accuracy: 0.8088 - val_loss: 0.3720 - val_accuracy: 0.8124\n",
      "Epoch 36/50\n",
      "28/28 [==============================] - 33s 1s/step - loss: 0.3758 - accuracy: 0.8121 - val_loss: 0.3899 - val_accuracy: 0.7913\n",
      "Epoch 37/50\n",
      "28/28 [==============================] - 32s 1s/step - loss: 0.3703 - accuracy: 0.8146 - val_loss: 0.3613 - val_accuracy: 0.8160\n",
      "Epoch 38/50\n",
      "28/28 [==============================] - 32s 1s/step - loss: 0.3674 - accuracy: 0.8168 - val_loss: 0.3642 - val_accuracy: 0.8118\n",
      "Epoch 39/50\n",
      "28/28 [==============================] - 32s 1s/step - loss: 0.3637 - accuracy: 0.8191 - val_loss: 0.3628 - val_accuracy: 0.8178\n",
      "Epoch 40/50\n",
      "28/28 [==============================] - 32s 1s/step - loss: 0.3608 - accuracy: 0.8211 - val_loss: 0.3709 - val_accuracy: 0.8136\n",
      "Epoch 41/50\n",
      "28/28 [==============================] - 33s 1s/step - loss: 0.3616 - accuracy: 0.8214 - val_loss: 0.3609 - val_accuracy: 0.8186\n",
      "Epoch 42/50\n",
      "28/28 [==============================] - 31s 1s/step - loss: 0.3578 - accuracy: 0.8228 - val_loss: 0.3619 - val_accuracy: 0.8133\n",
      "Epoch 43/50\n",
      "28/28 [==============================] - 32s 1s/step - loss: 0.3522 - accuracy: 0.8261 - val_loss: 0.3603 - val_accuracy: 0.8224\n",
      "Epoch 44/50\n",
      "28/28 [==============================] - 34s 1s/step - loss: 0.3503 - accuracy: 0.8278 - val_loss: 0.3547 - val_accuracy: 0.8216\n",
      "Epoch 45/50\n",
      "28/28 [==============================] - 33s 1s/step - loss: 0.3472 - accuracy: 0.8298 - val_loss: 0.3589 - val_accuracy: 0.8163\n",
      "Epoch 46/50\n",
      "28/28 [==============================] - 33s 1s/step - loss: 0.3450 - accuracy: 0.8303 - val_loss: 0.3591 - val_accuracy: 0.8179\n",
      "Epoch 47/50\n",
      "28/28 [==============================] - 374s 14s/step - loss: 0.3432 - accuracy: 0.8321 - val_loss: 0.3521 - val_accuracy: 0.8276\n",
      "Epoch 48/50\n",
      "28/28 [==============================] - 34s 1s/step - loss: 0.3394 - accuracy: 0.8331 - val_loss: 0.3486 - val_accuracy: 0.8298\n",
      "Epoch 49/50\n",
      "28/28 [==============================] - 34s 1s/step - loss: 0.3368 - accuracy: 0.8348 - val_loss: 0.3537 - val_accuracy: 0.8275\n",
      "Epoch 50/50\n",
      "28/28 [==============================] - 32s 1s/step - loss: 0.3319 - accuracy: 0.8380 - val_loss: 0.3531 - val_accuracy: 0.8249\n"
     ]
    },
    {
     "data": {
      "text/plain": [
       "<keras.callbacks.History at 0x1fece35b610>"
      ]
     },
     "execution_count": 17,
     "metadata": {},
     "output_type": "execute_result"
    }
   ],
   "source": [
    "callbacks = [\n",
    "        tf.keras.callbacks.EarlyStopping(patience=15, monitor='val_loss'),\n",
    "        tf.keras.callbacks.TensorBoard(log_dir='logs')]\n",
    "\n",
    "model.fit(X_train, y_train, validation_data=(X_test,y_test), batch_size=16, epochs=50, callbacks=callbacks)"
   ]
  },
  {
   "cell_type": "code",
   "execution_count": 18,
   "metadata": {
    "execution": {
     "iopub.execute_input": "2022-12-10T07:29:06.400517Z",
     "iopub.status.busy": "2022-12-10T07:29:06.399659Z",
     "iopub.status.idle": "2022-12-10T07:29:12.425488Z",
     "shell.execute_reply": "2022-12-10T07:29:12.424530Z",
     "shell.execute_reply.started": "2022-12-10T07:29:06.400478Z"
    }
   },
   "outputs": [
    {
     "data": {
      "image/png": "[encoded data removed]",
      "text/plain": [
       "<Figure size 432x288 with 1 Axes>"
      ]
     },
     "metadata": {
      "needs_background": "light"
     },
     "output_type": "display_data"
    }
   ],
   "source": [
    "loss = model.history.history['loss']\n",
    "val_loss = model.history.history['val_loss']\n",
    "\n",
    "plt.figure()\n",
    "plt.plot( loss, 'r', label='Training loss')\n",
    "plt.plot( val_loss, 'bo', label='Validation loss')\n",
    "plt.title('Training and Validation Loss')\n",
    "plt.xlabel('Epoch')\n",
    "plt.ylabel('Loss Value')\n",
    "plt.ylim([0, 1])\n",
    "plt.legend()\n",
    "plt.show()"
   ]
  },
  {
   "cell_type": "code",
   "execution_count": 19,
   "metadata": {
    "execution": {
     "iopub.execute_input": "2022-12-10T07:29:12.427423Z",
     "iopub.status.busy": "2022-12-10T07:29:12.427055Z",
     "iopub.status.idle": "2022-12-10T07:29:12.638267Z",
     "shell.execute_reply": "2022-12-10T07:29:12.637385Z",
     "shell.execute_reply.started": "2022-12-10T07:29:12.427387Z"
    }
   },
   "outputs": [
    {
     "data": {
      "image/png": "[encoded data removed]",
      "text/plain": [
       "<Figure size 432x288 with 1 Axes>"
      ]
     },
     "metadata": {
      "needs_background": "light"
     },
     "output_type": "display_data"
    }
   ],
   "source": [
    "accuracy = model.history.history['accuracy']\n",
    "val_accuracy = model.history.history['val_accuracy']\n",
    "\n",
    "plt.figure()\n",
    "plt.plot( accuracy, 'r', label='Training accuracy')\n",
    "plt.plot( val_accuracy, 'bo', label='Validation accuracy')\n",
    "plt.title('Training and Validation accuracy')\n",
    "plt.xlabel('Epoch')\n",
    "plt.ylabel('Loss Value')\n",
    "plt.ylim([0, 1])\n",
    "plt.legend()\n",
    "plt.show()"
   ]
  },
  {
   "cell_type": "code",
   "execution_count": 20,
   "metadata": {
    "execution": {
     "iopub.execute_input": "2022-12-10T07:29:12.639918Z",
     "iopub.status.busy": "2022-12-10T07:29:12.639614Z",
     "iopub.status.idle": "2022-12-10T07:29:12.645711Z",
     "shell.execute_reply": "2022-12-10T07:29:12.644698Z",
     "shell.execute_reply.started": "2022-12-10T07:29:12.639893Z"
    }
   },
   "outputs": [],
   "source": [
    "def display(display_list):\n",
    "  plt.figure(figsize=(15, 15))\n",
    "\n",
    "  title = ['Input image', 'True mask', 'Predicted mask']\n",
    "\n",
    "  for i in range(len(display_list)):\n",
    "    plt.subplot(1, len(display_list), i+1)\n",
    "    plt.title(title[i])\n",
    "    plt.imshow(tf.keras.utils.array_to_img(display_list[i]))\n",
    "    plt.axis('off')\n",
    "  plt.show()"
   ]
  },
  {
   "cell_type": "code",
   "execution_count": 21,
   "metadata": {
    "execution": {
     "iopub.execute_input": "2022-12-10T07:29:46.035989Z",
     "iopub.status.busy": "2022-12-10T07:29:46.035373Z",
     "iopub.status.idle": "2022-12-10T07:29:46.041563Z",
     "shell.execute_reply": "2022-12-10T07:29:46.040144Z",
     "shell.execute_reply.started": "2022-12-10T07:29:46.035944Z"
    }
   },
   "outputs": [],
   "source": [
    "i = random.randint(0, len(X_test))\n",
    "sample_image = X_test[i]\n",
    "sample_mask = y_test[i]"
   ]
  },
  {
   "cell_type": "code",
   "execution_count": 22,
   "metadata": {
    "execution": {
     "iopub.execute_input": "2022-12-10T07:29:46.351786Z",
     "iopub.status.busy": "2022-12-10T07:29:46.351439Z",
     "iopub.status.idle": "2022-12-10T07:29:46.542791Z",
     "shell.execute_reply": "2022-12-10T07:29:46.541865Z",
     "shell.execute_reply.started": "2022-12-10T07:29:46.351757Z"
    }
   },
   "outputs": [
    {
     "name": "stdout",
     "output_type": "stream",
     "text": [
      "7/7 [==============================] - 4s 389ms/step\n"
     ]
    }
   ],
   "source": [
    "predictions = model.predict(X_test)"
   ]
  },
  {
   "cell_type": "code",
   "execution_count": 23,
   "metadata": {
    "execution": {
     "iopub.execute_input": "2022-12-10T07:29:46.658117Z",
     "iopub.status.busy": "2022-12-10T07:29:46.657462Z",
     "iopub.status.idle": "2022-12-10T07:29:46.666543Z",
     "shell.execute_reply": "2022-12-10T07:29:46.665648Z",
     "shell.execute_reply.started": "2022-12-10T07:29:46.658076Z"
    }
   },
   "outputs": [
    {
     "data": {
      "text/plain": [
       "128"
      ]
     },
     "execution_count": 23,
     "metadata": {},
     "output_type": "execute_result"
    }
   ],
   "source": [
    "len(predictions[0])"
   ]
  },
  {
   "cell_type": "code",
   "execution_count": 24,
   "metadata": {
    "execution": {
     "iopub.execute_input": "2022-12-10T07:29:46.931451Z",
     "iopub.status.busy": "2022-12-10T07:29:46.930548Z",
     "iopub.status.idle": "2022-12-10T07:29:46.938803Z",
     "shell.execute_reply": "2022-12-10T07:29:46.937785Z",
     "shell.execute_reply.started": "2022-12-10T07:29:46.931402Z"
    }
   },
   "outputs": [
    {
     "data": {
      "text/plain": [
       "222"
      ]
     },
     "execution_count": 24,
     "metadata": {},
     "output_type": "execute_result"
    }
   ],
   "source": [
    "len(predictions)"
   ]
  },
  {
   "cell_type": "code",
   "execution_count": 25,
   "metadata": {
    "execution": {
     "iopub.execute_input": "2022-12-10T07:29:47.232522Z",
     "iopub.status.busy": "2022-12-10T07:29:47.231937Z",
     "iopub.status.idle": "2022-12-10T07:29:47.278215Z",
     "shell.execute_reply": "2022-12-10T07:29:47.277123Z",
     "shell.execute_reply.started": "2022-12-10T07:29:47.232482Z"
    }
   },
   "outputs": [
    {
     "name": "stdout",
     "output_type": "stream",
     "text": [
      "1/1 [==============================] - 0s 78ms/step\n"
     ]
    }
   ],
   "source": [
    "prediction = model.predict(sample_image[tf.newaxis, ...])[0]"
   ]
  },
  {
   "cell_type": "code",
   "execution_count": 26,
   "metadata": {
    "execution": {
     "iopub.execute_input": "2022-12-10T07:29:47.591954Z",
     "iopub.status.busy": "2022-12-10T07:29:47.591240Z",
     "iopub.status.idle": "2022-12-10T07:29:47.598249Z",
     "shell.execute_reply": "2022-12-10T07:29:47.597117Z",
     "shell.execute_reply.started": "2022-12-10T07:29:47.591912Z"
    }
   },
   "outputs": [],
   "source": [
    "predicted_mask = (prediction > 0.5).astype(np.uint8)"
   ]
  },
  {
   "cell_type": "code",
   "execution_count": 27,
   "metadata": {
    "execution": {
     "iopub.execute_input": "2022-12-10T07:29:48.027593Z",
     "iopub.status.busy": "2022-12-10T07:29:48.026722Z",
     "iopub.status.idle": "2022-12-10T07:29:48.290550Z",
     "shell.execute_reply": "2022-12-10T07:29:48.289597Z",
     "shell.execute_reply.started": "2022-12-10T07:29:48.027551Z"
    }
   },
   "outputs": [
    {
     "data": {
      "image/png": "[encoded data removed]",
      "text/plain": [
       "<Figure size 1080x1080 with 3 Axes>"
      ]
     },
     "metadata": {
      "needs_background": "light"
     },
     "output_type": "display_data"
    }
   ],
   "source": [
    "display([sample_image, sample_mask,predicted_mask])"
   ]
  },
  {
   "cell_type": "code",
   "execution_count": 29,
   "metadata": {},
   "outputs": [],
   "source": [
    " # linear algebra\n",
    "import pandas as pd # data processing, CSV file I/O (e.g. pd.read_csv)\n",
    "from tensorflow.keras.applications.vgg16 import VGG16\n",
    "from tensorflow.keras.applications.vgg16 import preprocess_input\n",
    "from tensorflow.keras.preprocessing.image import load_img\n",
    "from tensorflow.keras.preprocessing.image import img_to_array\n",
    "from tensorflow.keras.models import Model\n",
    "from matplotlib import pyplot\n",
    "from numpy import expand_dims\n",
    "from matplotlib import pyplot\n",
    "\n",
    "import warnings\n",
    "warnings.filterwarnings('ignore')"
   ]
  },
  {
   "cell_type": "code",
   "execution_count": 30,
   "metadata": {},
   "outputs": [],
   "source": [
    "image = load_img(\"D://DATA BOWL//data-science-bowl-2018//stage1_train//00ae65c1c6631ae6f2be1a449902976e6eb8483bf6b0740d00530220832c6d3e//images//00ae65c1c6631ae6f2be1a449902976e6eb8483bf6b0740d00530220832c6d3e.png\" , target_size=(224,224))\n",
    "\n",
    "# convert the image to an array\n",
    "image = img_to_array(image)\n",
    "# expand dimensions so that it represents a single 'sample'\n",
    "image = expand_dims(image, axis=0)"
   ]
  },
  {
   "cell_type": "code",
   "execution_count": 31,
   "metadata": {},
   "outputs": [
    {
     "name": "stdout",
     "output_type": "stream",
     "text": [
      "1/1 [==============================] - 1s 621ms/step\n"
     ]
    },
    {
     "data": {
      "image/png": "[encoded data removed]",
      "text/plain": [
       "<Figure size 1440x1080 with 1 Axes>"
      ]
     },
     "metadata": {
      "needs_background": "light"
     },
     "output_type": "display_data"
    }
   ],
   "source": [
    "#calculating features_map\n",
    "features = model.predict(image)\n",
    "\n",
    "fig = pyplot.figure(figsize=(20,15))\n",
    "for i in range(1,features.shape[3]+1):\n",
    "\n",
    "    pyplot.subplot(8,8,i)\n",
    "    pyplot.imshow(features[0,:,:,i-1] , cmap='gray')\n",
    "    \n",
    "pyplot.show()"
   ]
  },
  {
   "cell_type": "code",
   "execution_count": null,
   "metadata": {},
   "outputs": [],
   "source": []
  },
  {
   "cell_type": "code",
   "execution_count": null,
   "metadata": {},
   "outputs": [],
   "source": []
  },
  {
   "cell_type": "code",
   "execution_count": null,
   "metadata": {},
   "outputs": [],
   "source": []
  }
 ],
 "metadata": {
  "kernelspec": {
   "display_name": "Python 3 (ipykernel)",
   "language": "python",
   "name": "python3"
  },
  "language_info": {
   "codemirror_mode": {
    "name": "ipython",
    "version": 3
   },
   "file_extension": ".py",
   "mimetype": "text/x-python",
   "name": "python",
   "nbconvert_exporter": "python",
   "pygments_lexer": "ipython3",
   "version": "3.9.12"
  }
 },
 "nbformat": 4,
 "nbformat_minor": 4
}
