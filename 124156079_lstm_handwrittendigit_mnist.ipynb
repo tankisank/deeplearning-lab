{
  "nbformat": 4,
  "nbformat_minor": 0,
  "metadata": {
    "colab": {
      "provenance": []
    },
    "kernelspec": {
      "name": "python3",
      "display_name": "Python 3"
    },
    "language_info": {
      "name": "python"
    }
  },
  "cells": [
    {
      "cell_type": "code",
      "execution_count": 1,
      "metadata": {
        "colab": {
          "base_uri": "https://localhost:8080/"
        },
        "id": "0FxxEr2cgHUu",
        "outputId": "21c2540b-ed9e-4473-f64c-adefb284cf9b"
      },
      "outputs": [
        {
          "output_type": "stream",
          "name": "stdout",
          "text": [
            "Downloading data from https://storage.googleapis.com/tensorflow/tf-keras-datasets/mnist.npz\n",
            "11490434/11490434 [==============================] - 0s 0us/step\n",
            "Epoch 1/10\n",
            "750/750 [==============================] - 95s 119ms/step - loss: 0.4301 - accuracy: 0.8585 - val_loss: 0.1474 - val_accuracy: 0.9556\n",
            "Epoch 2/10\n",
            "750/750 [==============================] - 90s 120ms/step - loss: 0.1131 - accuracy: 0.9653 - val_loss: 0.1242 - val_accuracy: 0.9625\n",
            "Epoch 3/10\n",
            "750/750 [==============================] - 88s 118ms/step - loss: 0.0754 - accuracy: 0.9766 - val_loss: 0.0733 - val_accuracy: 0.9788\n",
            "Epoch 4/10\n",
            "750/750 [==============================] - 89s 119ms/step - loss: 0.0587 - accuracy: 0.9820 - val_loss: 0.0820 - val_accuracy: 0.9752\n",
            "Epoch 5/10\n",
            "750/750 [==============================] - 88s 117ms/step - loss: 0.0442 - accuracy: 0.9862 - val_loss: 0.0540 - val_accuracy: 0.9833\n",
            "Epoch 6/10\n",
            "750/750 [==============================] - 88s 117ms/step - loss: 0.0411 - accuracy: 0.9869 - val_loss: 0.0542 - val_accuracy: 0.9847\n",
            "Epoch 7/10\n",
            "750/750 [==============================] - 89s 119ms/step - loss: 0.0345 - accuracy: 0.9892 - val_loss: 0.0545 - val_accuracy: 0.9851\n",
            "Epoch 8/10\n",
            "750/750 [==============================] - 88s 118ms/step - loss: 0.0288 - accuracy: 0.9910 - val_loss: 0.0522 - val_accuracy: 0.9846\n",
            "Epoch 9/10\n",
            "750/750 [==============================] - 90s 121ms/step - loss: 0.0274 - accuracy: 0.9913 - val_loss: 0.0506 - val_accuracy: 0.9859\n",
            "Epoch 10/10\n",
            "750/750 [==============================] - 90s 120ms/step - loss: 0.0240 - accuracy: 0.9924 - val_loss: 0.0484 - val_accuracy: 0.9860\n",
            "313/313 [==============================] - 9s 28ms/step - loss: 0.0442 - accuracy: 0.9864\n",
            "Test Loss: 0.0442, Test Accuracy: 0.9864\n"
          ]
        }
      ],
      "source": [
        "import numpy as np\n",
        "import tensorflow as tf\n",
        "from tensorflow.keras.datasets import mnist\n",
        "from tensorflow.keras.models import Sequential\n",
        "from tensorflow.keras.layers import LSTM, Dense\n",
        "from tensorflow.keras.utils import to_categorical\n",
        "\n",
        "# Load the MNIST dataset\n",
        "(x_train, y_train), (x_test, y_test) = mnist.load_data()\n",
        "\n",
        "# Preprocess the data\n",
        "x_train = x_train.astype('float32') / 255.0\n",
        "x_test = x_test.astype('float32') / 255.0\n",
        "\n",
        "# One-hot encode the labels\n",
        "y_train = to_categorical(y_train, 10)\n",
        "y_test = to_categorical(y_test, 10)\n",
        "\n",
        "# Define the model\n",
        "model = Sequential()\n",
        "\n",
        "# Reshape the input data for LSTM\n",
        "model.add(LSTM(units=128, input_shape=(28, 28), return_sequences=True))\n",
        "\n",
        "# Add another LSTM layer\n",
        "model.add(LSTM(units=128, return_sequences=False))\n",
        "\n",
        "# Add a fully connected (dense) layer for output\n",
        "model.add(Dense(10, activation='softmax'))\n",
        "\n",
        "# Compile the model\n",
        "model.compile(loss='categorical_crossentropy', optimizer='adam', metrics=['accuracy'])\n",
        "\n",
        "# Train the model\n",
        "model.fit(x_train, y_train, epochs=10, batch_size=64, validation_split=0.2)\n",
        "\n",
        "# Evaluate the model on the test set\n",
        "test_loss, test_accuracy = model.evaluate(x_test, y_test)\n",
        "print(f\"Test Loss: {test_loss:.4f}, Test Accuracy: {test_accuracy:.4f}\")\n"
      ]
    },
    {
      "cell_type": "code",
      "source": [],
      "metadata": {
        "id": "hW_Ro3NOgPBM"
      },
      "execution_count": null,
      "outputs": []
    }
  ]
}